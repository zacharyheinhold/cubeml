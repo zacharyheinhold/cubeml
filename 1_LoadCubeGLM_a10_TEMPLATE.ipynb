{
 "cells": [
  {
   "cell_type": "markdown",
   "id": "e662627b-681b-469f-b5c2-9b93b9b6aa2e",
   "metadata": {
    "tags": []
   },
   "source": [
    "#### *Purpose: check the Broadband Hyperspectral FalseColor image at certain caps, find optimal caps through manual implementation"
   ]
  },
  {
   "cell_type": "markdown",
   "id": "8351312a-fefb-442c-9ab3-ece167a7d3bf",
   "metadata": {},
   "source": [
    "# Load libraries and data"
   ]
  },
  {
   "cell_type": "code",
   "execution_count": null,
   "id": "e54e9b0e-5ee5-4303-b7ea-90661e3fef1e",
   "metadata": {},
   "outputs": [],
   "source": [
    "#from gmodetector_py import XMatrix\n",
    "from gmodetector_py import Hypercube\n",
    "from gmodetector_py import WeightArray\n",
    "from gmodetector_py import ImageChannel\n",
    "from gmodetector_py import FalseColor\n",
    "import numpy as np\n",
    "import matplotlib.pyplot as plt\n",
    "import cv2\n",
    "from glob import glob\n",
    "from PIL import Image"
   ]
  },
  {
   "cell_type": "code",
   "execution_count": null,
   "id": "4a404c63-1631-4da9-ad5c-d68d14e19af6",
   "metadata": {},
   "outputs": [],
   "source": [
    "files = glob(\"./BROADBAND_FILE_DIRECTORY/*.hdr\")"
   ]
  },
  {
   "cell_type": "code",
   "execution_count": null,
   "id": "858bc28d-54f1-4c0a-aae6-0c2014b4bf52",
   "metadata": {},
   "outputs": [],
   "source": [
    "file_path = \"./BROADBAND_FILE_DIRECTORY/SPECIFIC_BROADBAND_FILE.hdr\""
   ]
  },
  {
   "cell_type": "code",
   "execution_count": null,
   "id": "04debb62-1e5b-4ed4-9a60-a4c1174e9cdf",
   "metadata": {},
   "outputs": [],
   "source": [
    "test_cube = Hypercube(file_path,\n",
    "                      min_desired_wavelength = 400,\n",
    "                      max_desired_wavelength = 1000)"
   ]
  },
  {
   "cell_type": "markdown",
   "id": "1f4d6906-5897-4488-8e97-aa16f6ac372b",
   "metadata": {},
   "source": [
    "# Check spectra"
   ]
  },
  {
   "cell_type": "code",
   "execution_count": null,
   "id": "5f97817d-916a-4cb8-8799-6b1227a82e07",
   "metadata": {},
   "outputs": [],
   "source": [
    "import cv2\n",
    "import matplotlib.pyplot as plt"
   ]
  },
  {
   "cell_type": "code",
   "execution_count": null,
   "id": "1f8dadc2-bc3d-48f3-8514-23c9c9a5470d",
   "metadata": {},
   "outputs": [],
   "source": [
    "import numpy as np\n",
    "\n",
    "mean_spectrum = np.mean(test_cube.hypercube, axis=(0, 1))\n"
   ]
  },
  {
   "cell_type": "code",
   "execution_count": null,
   "id": "dff17f75-5be0-465a-bcc8-af635ff093a9",
   "metadata": {},
   "outputs": [],
   "source": [
    "# Convert wavelength strings to floats\n",
    "wavelengths_float = np.array([float(w) for w in test_cube.wavelengths])\n",
    "\n",
    "# Plot the mean spectrum\n",
    "plt.plot(wavelengths_float, mean_spectrum)\n",
    "plt.xlabel('Wavelength')\n",
    "plt.ylabel('Mean Signal Intensity')\n",
    "plt.title('Mean Spectrum')\n",
    "\n",
    "# Set the x-axis tick marks\n",
    "min_wavelength = int(np.min(wavelengths_float))\n",
    "max_wavelength = int(np.max(wavelengths_float))\n",
    "tick_marks = np.arange(min_wavelength - min_wavelength % 50, max_wavelength, 50)\n",
    "plt.xticks(tick_marks)\n",
    "\n",
    "plt.show()"
   ]
  },
  {
   "cell_type": "markdown",
   "id": "1440fdfb-83c2-41d7-a2ed-7d8eb5bc406e",
   "metadata": {},
   "source": [
    "# Make `FalseColor`"
   ]
  },
  {
   "cell_type": "raw",
   "id": "d3ee1e66-be04-49a3-a7d0-bb8ef139b10d",
   "metadata": {},
   "source": [
    "Producing image channel for 533.7419 with cap 563 in color green      \n",
    "Producing image channel for 563.8288 with cap 904 in color red\n",
    "Producing image channel for 500.0404 with cap 406 in color blue\n",
    "\n",
    "These are default caps in generate_false_color_batch.py"
   ]
  },
  {
   "cell_type": "code",
   "execution_count": null,
   "id": "ee82588f-5f4f-418a-961b-f42f3e1cebb7",
   "metadata": {},
   "outputs": [],
   "source": [
    "stacked_component_image = FalseColor([ImageChannel(hypercube = test_cube,\n",
    "                                                   desired_component_or_wavelength = \"533.7419\",\n",
    "                                                   color = 'green',\n",
    "                                                   cap = 563),\n",
    "                                      ImageChannel(hypercube = test_cube,\n",
    "                                                   desired_component_or_wavelength = \"563.8288\",\n",
    "                                                   color = 'red',\n",
    "                                                   cap = 904),\n",
    "                                      ImageChannel(hypercube = test_cube, \n",
    "                                                   desired_component_or_wavelength = \"500.0404\",\n",
    "                                                   color = 'blue',\n",
    "                                                   cap = 406)])"
   ]
  },
  {
   "cell_type": "markdown",
   "id": "2360f203-8ea6-4226-a7c4-718c9d3e6750",
   "metadata": {},
   "source": [
    "#### Preprocess RGB & Hyperspecral FalseColor images"
   ]
  },
  {
   "cell_type": "code",
   "execution_count": null,
   "id": "81b569f9-5564-484d-b930-614de483821f",
   "metadata": {},
   "outputs": [],
   "source": [
    "# Load the RGB image and the hyperspectral image as FalseColor.image\n",
    "hyperspectral_image = np.array(stacked_component_image.image)\n",
    "rgb_image = cv2.imread('./FILE_DIRECTORY/SPECIFIC_RGB_FILE_rgb.jpg',\n",
    "                       cv2.IMREAD_COLOR)\n",
    "\n",
    "# Convert the images from OpenCV BGR format to RGB format\n",
    "rgb_image = cv2.cvtColor(rgb_image, cv2.COLOR_BGR2RGB)\n",
    "\n",
    "# Preprocess the images\n",
    "rotated_rgb_image = np.rot90(rgb_image, k=3)  # Rotate RGB image by 270 degrees\n",
    "rotated_hyperspectral_image = np.rot90(hyperspectral_image, k=2)  # Rotate hyperspectral image by 180 degrees\n",
    "flipped_hyperspectral_image = np.fliplr(rotated_hyperspectral_image)  # Flip hyperspectral image horizontally\n",
    "\n",
    "# Convert the preprocessed images to PIL Image objects\n",
    "pil_rgb_image = Image.fromarray(rotated_rgb_image)\n",
    "pil_hyperspectral_image = Image.fromarray(flipped_hyperspectral_image)"
   ]
  },
  {
   "cell_type": "markdown",
   "id": "6e5004e1-2998-4eb3-ad13-d06ac0ec25fe",
   "metadata": {},
   "source": [
    "#### Display RGB and Hyperspectral FalseColor"
   ]
  },
  {
   "cell_type": "code",
   "execution_count": null,
   "id": "3ab3d11d-46c9-4901-9bc1-676984b289ee",
   "metadata": {},
   "outputs": [],
   "source": [
    "# Display broadband hyperspectral false color image with current caps shown above\n",
    "pil_hyperspectral_image"
   ]
  },
  {
   "cell_type": "code",
   "execution_count": null,
   "id": "8326e8e9-1bbb-4cfc-9b96-74c30eb36559",
   "metadata": {},
   "outputs": [],
   "source": [
    "# Display RGB image loaded above\n",
    "pil_rgb_image"
   ]
  },
  {
   "cell_type": "markdown",
   "id": "cf28ec56-b982-4533-8b98-d7312b6e22bd",
   "metadata": {},
   "source": [
    "# Optimized Caps Values: Manual Implementation"
   ]
  },
  {
   "cell_type": "code",
   "execution_count": null,
   "id": "90e96c5e-6aa6-4529-949f-fc49b6d630c5",
   "metadata": {
    "tags": []
   },
   "outputs": [],
   "source": [
    "import cv2\n",
    "import numpy as np\n",
    "from scipy.optimize import minimize, Bounds\n",
    "\n",
    "def cost_function(caps, hyperspectral_image, rgb_image, test_cube):\n",
    "    # Create a FalseColor image using the given cap parameters\n",
    "    stacked_component_image = FalseColor([ImageChannel(hypercube=test_cube,\n",
    "                                                       desired_component_or_wavelength=\"533.7419\",\n",
    "                                                       color='green',\n",
    "                                                       cap=caps[0]),\n",
    "                                          ImageChannel(hypercube=test_cube,\n",
    "                                                       desired_component_or_wavelength=\"563.8288\",\n",
    "                                                       color='red',\n",
    "                                                       cap=caps[1]),\n",
    "                                          ImageChannel(hypercube=test_cube,\n",
    "                                                       desired_component_or_wavelength=\"500.0404\",\n",
    "                                                       color='blue',\n",
    "                                                       cap=caps[2])])\n",
    "\n",
    "    # Convert the FalseColor image to a NumPy array\n",
    "    stacked_np_image = np.array(stacked_component_image.image)\n",
    "\n",
    "    # Resize the RGB image to match the dimensions of the hyperspectral image\n",
    "    height, width, _ = stacked_np_image.shape\n",
    "    resized_rgb_image = cv2.resize(rgb_image, (width, height), interpolation=cv2.INTER_AREA)\n",
    "\n",
    "    # Compute the absolute difference between the resized RGB image and the FalseColor image\n",
    "    diff = cv2.absdiff(stacked_np_image, resized_rgb_image)\n",
    "\n",
    "    # Calculate the sum of the absolute differences as the cost\n",
    "    cost = np.sum(diff)\n",
    "\n",
    "    return cost\n",
    "\n",
    "def nelder_mead(func, x0, args=(), bounds=None, min_step_size=5, maxiter=1000, tol=1e-4):\n",
    "    x0 = np.asarray(x0)\n",
    "    N = x0.size\n",
    "    sim = np.zeros((N + 1, N), dtype=x0.dtype)\n",
    "    sim[0] = x0\n",
    "    for k in range(1, N + 1):\n",
    "        y = np.array(x0, copy=True)\n",
    "        y[k - 1] += min_step_size\n",
    "        sim[k] = y\n",
    "\n",
    "    allvecs = np.concatenate((sim, np.zeros((N + 1, 1))), axis=1)\n",
    "    for k in range(N + 1):\n",
    "        allvecs[k, N] = func(allvecs[k, :N], *args)\n",
    "\n",
    "    ind = np.argsort(allvecs[:, N])\n",
    "    allvecs = allvecs[ind]\n",
    "\n",
    "    iterations = 0\n",
    "    while iterations < maxiter:\n",
    "        centroid = np.mean(allvecs[:-1, :N], axis=0)\n",
    "        xr = centroid + 2.0 * (centroid - allvecs[-1, :N])\n",
    "        fxr = func(xr, *args)\n",
    "\n",
    "        if fxr < allvecs[0, N]:\n",
    "            xe = centroid + 3.0 * (centroid - allvecs[-1, :N])\n",
    "            fxe = func(xe, *args)\n",
    "\n",
    "            if fxe < allvecs[0, N]:\n",
    "                allvecs[-1, :N] = xe\n",
    "                allvecs[-1, N] = fxe\n",
    "            else:\n",
    "                allvecs[-1, :N] = xr\n",
    "                allvecs[-1, N] = fxr\n",
    "        elif fxr < allvecs[-2, N]:\n",
    "            allvecs[-1, :N] = xr\n",
    "            allvecs[-1, N] = fxr\n",
    "\n",
    "        else:\n",
    "            if fxr < allvecs[-1, N]:\n",
    "                allvecs[-1, :N] = xr\n",
    "                allvecs[-1, N] = fxr\n",
    "\n",
    "            xc = centroid + 0.5 * (allvecs[-1, :N] - centroid)\n",
    "            fxc = func(xc, *args)\n",
    "\n",
    "            if fxc <= allvecs[-1, N]:\n",
    "                allvecs[-1, :N] = xc\n",
    "                allvecs[-1, N] = fxc\n",
    "            else:\n",
    "                for k in range(1, N + 1):\n",
    "                    allvecs[k, :N] = allvecs[0, :N] + (allvecs[k, :N] - allvecs[0, :N]) / 2\n",
    "                    allvecs[k, N] = func(allvecs[k, :N], *args)\n",
    "\n",
    "        ind = np.argsort(allvecs[:, N])\n",
    "        allvecs = allvecs[ind]\n",
    "\n",
    "        iterations += 1\n",
    "\n",
    "        if np.std(allvecs[:, N]) <= tol:\n",
    "            break\n",
    "\n",
    "    return allvecs[0, :N]\n",
    "\n",
    "# Initial cap values\n",
    "initial_caps = [400, 600, 500]\n",
    "\n",
    "# Set the bounds for your problem\n",
    "bounds = Bounds([200, 200, 200], [900, 900, 900])\n",
    "\n",
    "# Set the initial trust radius (step size)\n",
    "trust_radius = 100\n",
    "\n",
    "# Set the minimum step size\n",
    "min_step_size = 5\n",
    "\n",
    "# Use the custom Nelder-Mead algorithm to minimize the cost function\n",
    "optimized_caps = nelder_mead(\n",
    "    func=cost_function,\n",
    "    x0=initial_caps,\n",
    "    args=(hyperspectral_image, rgb_image, test_cube),\n",
    "    bounds=bounds,\n",
    "    min_step_size=min_step_size,\n",
    "    maxiter=1000,\n",
    "    tol=1e-4\n",
    ")\n",
    "\n",
    "print(\"Optimized cap values:\", optimized_caps)\n"
   ]
  }
 ],
 "metadata": {
  "kernelspec": {
   "display_name": "cubeglm2",
   "language": "python",
   "name": "cubeglm2"
  },
  "language_info": {
   "codemirror_mode": {
    "name": "ipython",
    "version": 3
   },
   "file_extension": ".py",
   "mimetype": "text/x-python",
   "name": "python",
   "nbconvert_exporter": "python",
   "pygments_lexer": "ipython3",
   "version": "3.8.13"
  }
 },
 "nbformat": 4,
 "nbformat_minor": 5
}
