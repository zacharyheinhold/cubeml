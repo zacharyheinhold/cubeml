{
 "cells": [
  {
   "cell_type": "markdown",
   "id": "6c62c148-c342-4970-aa9d-ab3131669545",
   "metadata": {},
   "source": [
    "# Generate `FalseColor` Images"
   ]
  },
  {
   "cell_type": "code",
   "execution_count": null,
   "id": "b7bc9307-7428-489b-b6c2-40ca57ccf52b",
   "metadata": {},
   "outputs": [],
   "source": [
    "conda activate cubeglm2"
   ]
  },
  {
   "cell_type": "code",
   "execution_count": null,
   "id": "4994f960-d2b2-4c19-80b0-e73b30c91803",
   "metadata": {},
   "outputs": [],
   "source": [
    "directory=\"DIRECTORY_FOR_BROADBAND_HYPERSPECTRAL_IMAGES\""
   ]
  },
  {
   "cell_type": "code",
   "execution_count": null,
   "id": "8d6cae17-eab7-43e8-9377-e45f38e127eb",
   "metadata": {},
   "outputs": [],
   "source": [
    "# Change directory to where cubeml and our python file are stored\n",
    "cd /media/gmobot/data/NSF_GWAS/notebooks/Broadband/"
   ]
  },
  {
   "cell_type": "markdown",
   "id": "4f31f235-0a9d-4efb-a253-2dcb670fe1b5",
   "metadata": {},
   "source": [
    "#### Copying directory broadband files and placing them in new folder in current directory"
   ]
  },
  {
   "cell_type": "code",
   "execution_count": null,
   "id": "55b6d0f9-7539-42de-a5dd-8fbd8e5f3698",
   "metadata": {},
   "outputs": [],
   "source": [
    "# Set the source directory\n",
    "src=$directory\n",
    "\n",
    "# Determine the destination directory based on the name of the source directory\n",
    "dest=\"./$(basename \"$src\")\"\n",
    "\n",
    "# Use rsync to copy files, excluding those containing 'Fluorescence'\n",
    "rsync -av --exclude '*Fluorescence*' \"$src/\" \"$dest/\""
   ]
  },
  {
   "cell_type": "markdown",
   "id": "70707fb3-339e-40e0-9bbd-65f7feab6299",
   "metadata": {},
   "source": [
    "#### Run the python file to create FalseColor images in new folder"
   ]
  },
  {
   "cell_type": "code",
   "execution_count": null,
   "id": "a5a4706f-3bb6-46a2-81f0-2213370a4336",
   "metadata": {},
   "outputs": [],
   "source": [
    "python /media/gmobot/data/NSF_GWAS/notebooks/Broadband/02_False_color_development/generate_false_color_batch.py \\\n",
    "--directory_path=\"DIRECTORY_FOR_BROADBAND_HYPERSPECTRAL_IMAGES\"     #use same directory as one above"
   ]
  }
 ],
 "metadata": {
  "kernelspec": {
   "display_name": "Bash",
   "language": "bash",
   "name": "bash"
  },
  "language_info": {
   "codemirror_mode": "shell",
   "file_extension": ".sh",
   "mimetype": "text/x-sh",
   "name": "bash"
  }
 },
 "nbformat": 4,
 "nbformat_minor": 5
}
